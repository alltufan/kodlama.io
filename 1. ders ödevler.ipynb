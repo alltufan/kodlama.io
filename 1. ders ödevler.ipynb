{
 "cells": [
  {
   "cell_type": "code",
   "execution_count": 25,
   "metadata": {},
   "outputs": [
    {
     "name": "stdout",
     "output_type": "stream",
     "text": [
      "İlerlemek için lütfen 'ileri' yazın\n",
      "Ödevleri tamamladıysanız 'tamam' yazın\n",
      "Çıkmak için 'çıkış' yazın: ileri\n",
      "\n",
      "Yapılması gerek ödev:  3\n",
      "İlerlemek için lütfen 'ileri' yazın\n",
      "Ödevleri tamamladıysanız 'tamam' yazın\n",
      "Çıkmak için 'çıkış' yazın: tamam\n",
      "\n",
      "Kalan odev 2\n",
      "\n",
      "Lütfen ödevleri tamamlayın\n",
      "\n",
      "İlerlemek için lütfen 'ileri' yazın\n",
      "Ödevleri tamamladıysanız 'tamam' yazın\n",
      "Çıkmak için 'çıkış' yazın: tamam\n",
      "\n",
      "Kalan odev 1\n",
      "\n",
      "Lütfen ödevleri tamamlayın\n",
      "\n",
      "İlerlemek için lütfen 'ileri' yazın\n",
      "Ödevleri tamamladıysanız 'tamam' yazın\n",
      "Çıkmak için 'çıkış' yazın: tamam\n",
      "\n",
      "Kalan odev 0\n"
     ]
    }
   ],
   "source": [
    "#Soru 1\n",
    "#veri tipleri\n",
    "#integer: Tam sayılar olarak belirtebileceğimiz rakamlar integer olarak belirtilir\n",
    "#string: Aslında sadece yazı olarak kalacak, matematiksel işlemlerde kullanılamayacak veri tipi diyebiliriz\n",
    "#float: ondalıklı sayılar\n",
    "#list: bir arada liste olarak bulundurulan verilerdir. Sayı gurubu,kelimeler ya da ikisinin karışımı\n",
    "#dictionary: Türkçe anlamının tam karşılığı olan veri tipi denebilir. sözlük mantığında bir anahtar ve ona karşılık\n",
    "#gelen bir değer vardır. ikisi bir aradadır ve anahtar veriyi çağırırsak değer karşımıza gelir\n",
    "#tuple: Aslında liste tipinin aynısıdır sadece üzerinde değişiklik yapılamaz ve içinden veri silinemez.\n",
    "\n",
    "\n",
    "#Soru 2\n",
    "#Profil bölümünde kişisel bilgilerimizi yazdığımız alanlar\n",
    "#Arama motoruna sorgu girişi\n",
    "#Kalıcı olması sebebi ile opsiyonel değerlendirilebilir ama yorum kısmı da bir değişken girilen alandır\n",
    "#girdiğimiz metin aslında bir veridir ve biz onu kaydettiğimizde orada yorum olarak tanımlanmış olur. \n",
    "#\n",
    "#\n",
    "\n",
    "odev=3\n",
    "\n",
    "while True:\n",
    "    durum=input(\"İlerlemek için lütfen 'ileri' yazın\\nÖdevleri tamamladıysanız 'tamam' yazın\\nÇıkmak için 'çıkış' yazın: \")\n",
    "    \n",
    "    if durum==\"çıkış\":\n",
    "        break\n",
    "        \n",
    "    else:\n",
    "        if durum==\"ileri\":\n",
    "            print(\"\\nYapılması gerek ödev: \",odev)\n",
    "        elif durum==\"tamam\":\n",
    "            odev-=1\n",
    "            print(\"\\nKalan odev\",odev)\n",
    "            if odev<=0:\n",
    "                break\n",
    "            else:\n",
    "                print(\"\\nLütfen ödevleri tamamlayın\\n\")\n",
    "    \n",
    "    \n",
    "\n",
    "\n"
   ]
  },
  {
   "cell_type": "code",
   "execution_count": null,
   "metadata": {},
   "outputs": [],
   "source": [
    "\n"
   ]
  },
  {
   "cell_type": "code",
   "execution_count": null,
   "metadata": {},
   "outputs": [],
   "source": []
  }
 ],
 "metadata": {
  "kernelspec": {
   "display_name": "Python 3",
   "language": "python",
   "name": "python3"
  },
  "language_info": {
   "codemirror_mode": {
    "name": "ipython",
    "version": 3
   },
   "file_extension": ".py",
   "mimetype": "text/x-python",
   "name": "python",
   "nbconvert_exporter": "python",
   "pygments_lexer": "ipython3",
   "version": "3.7.6"
  }
 },
 "nbformat": 4,
 "nbformat_minor": 4
}
