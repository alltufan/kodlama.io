{
 "cells": [
  {
   "cell_type": "code",
   "execution_count": null,
   "metadata": {},
   "outputs": [],
   "source": [
    "Bir öğrenci kayıt sistemi yazdığımızı düşünelim. \n",
    "Sistemimizdeki öğrencileri bir listede sadece ad soyad olacak şekilde tutalım.\n",
    "\n",
    "Bu öğrenci kayıt sistemine;\n",
    "\n",
    "Aldığı isim soy isim ile listeye öğrenci ekleyen\n",
    "Aldığı isim soy isim ile eşleşen değeri listeden kaldıran\n",
    "Listeye birden fazla öğrenci eklemeyi mümkün kılan\n",
    "Listedeki tüm öğrencileri tek tek ekrana yazdıran\n",
    "Öğrencinin listedeki index numarası öğrenci numarası olarak kabul edildiğini düşünerek öğrencinin numarasını öğrenmeyi mümkün kılan\n",
    "Listeden birden fazla öğrenci silmeyi mümkün kılan (döngü kullanınız)\n",
    "fonksiyonları geliştiriniz ve her bir fonksiyonu en az bir kere çağırarak konsolda test ediniz."
   ]
  },
  {
   "cell_type": "code",
   "execution_count": 61,
   "metadata": {},
   "outputs": [
    {
     "name": "stdout",
     "output_type": "stream",
     "text": [
      "Kaç öğrenci eklemek istiyorsunuz: 3\n",
      "Öğrenci Adı ve Soyadı: ali\n",
      "Öğrenci Adı ve Soyadı: osman\n",
      "Öğrenci Adı ve Soyadı: hasan\n",
      "********************\n",
      "0.ali \n",
      "1.osman \n",
      "2.hasan \n",
      "********************\n",
      "Numarasını öğrenmek istediğiniz öğrenci adı: osman\n",
      "osman isimli öğrenci numarası 1 \n",
      "********************\n",
      "Kaç tane öğrenci silmek istiorsunuz: 2\n",
      "Numarasını öğrenmek istediğiniz öğrenci adı: ali\n",
      "0.osman \n",
      "1.hasan \n",
      "Numarasını öğrenmek istediğiniz öğrenci adı: osman\n",
      "0.hasan \n"
     ]
    }
   ],
   "source": [
    "stdList=[]\n",
    "\n",
    "def addStd():\n",
    "    name=input(\"Öğrenci Adı ve Soyadı: \")\n",
    "    stdList.append(name)\n",
    "    Search(name)\n",
    "\n",
    "    \n",
    "def Search(name):\n",
    "    if stdList.count(name)>1:\n",
    "        stdList.remove(name)\n",
    "\n",
    "def addMultiStd():\n",
    "    enter=int(input(\"Kaç öğrenci eklemek istiyorsunuz: \"))\n",
    "    count=0\n",
    "    while count<enter:\n",
    "            addStd()\n",
    "            count+=1\n",
    "\n",
    "    \n",
    "def displayStd():\n",
    "    for i in stdList:\n",
    "        print(\"{}.{} \".format(stdList.index(i),i))\n",
    "\n",
    "def stdNumber():\n",
    "    name=input(\"Numarasını öğrenmek istediğiniz öğrenci adı: \")\n",
    "    print(\"{} isimli öğrenci numarası {} \".format(name,stdList.index(name)))\n",
    "        \n",
    "        \n",
    "def delStd():\n",
    "    a=len(stdList)\n",
    "    q=int(input(\"Kaç tane öğrenci silmek istiorsunuz: \"))\n",
    "    c=0\n",
    "    while c<q and q<a :\n",
    "        name=input(\"Numarasını öğrenmek istediğiniz öğrenci adı: \")\n",
    "        stdList.pop(stdList.index(name))\n",
    "        displayStd()\n",
    "        c+=1\n",
    "        \n",
    "def space():\n",
    "    print(\"*\"*20)\n",
    "    \n",
    "        \n",
    "            \n",
    "            \n",
    "addMultiStd()\n",
    "space()\n",
    "displayStd()\n",
    "space()\n",
    "stdNumber()\n",
    "space()\n",
    "delStd()\n",
    "        "
   ]
  },
  {
   "cell_type": "code",
   "execution_count": null,
   "metadata": {},
   "outputs": [],
   "source": []
  },
  {
   "cell_type": "code",
   "execution_count": null,
   "metadata": {},
   "outputs": [],
   "source": []
  },
  {
   "cell_type": "code",
   "execution_count": null,
   "metadata": {},
   "outputs": [],
   "source": []
  }
 ],
 "metadata": {
  "kernelspec": {
   "display_name": "Python 3",
   "language": "python",
   "name": "python3"
  },
  "language_info": {
   "codemirror_mode": {
    "name": "ipython",
    "version": 3
   },
   "file_extension": ".py",
   "mimetype": "text/x-python",
   "name": "python",
   "nbconvert_exporter": "python",
   "pygments_lexer": "ipython3",
   "version": "3.7.6"
  }
 },
 "nbformat": 4,
 "nbformat_minor": 4
}
